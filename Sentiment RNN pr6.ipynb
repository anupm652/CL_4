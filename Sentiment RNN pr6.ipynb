{
  "cells": [
    {
      "cell_type": "code",
      "execution_count": 1,
      "metadata": {
        "id": "N5ERLG09rtN_"
      },
      "outputs": [],
      "source": [
        "import tensorflow as tf\n",
        "from tensorflow.keras.datasets import imdb\n",
        "from tensorflow.keras.models import Sequential\n",
        "from tensorflow.keras.layers import Embedding, LSTM, Dense\n",
        "from tensorflow.keras.preprocessing.sequence import pad_sequences"
      ]
    },
    {
      "cell_type": "code",
      "execution_count": 2,
      "metadata": {
        "id": "r_4PhNJSr2it"
      },
      "outputs": [],
      "source": [
        "# Set the parameters\n",
        "max_features = 10000  # Number of words to consider as features\n",
        "maxlen = 100  # Cut texts after this number of words (among top max_features most common words)\n",
        "batch_size = 32\n"
      ]
    },
    {
      "cell_type": "code",
      "execution_count": 3,
      "metadata": {
        "id": "LJzHxpLfsAK-"
      },
      "outputs": [],
      "source": [
        "# Load the IMDB dataset\n",
        "(x_train, y_train), (x_test, y_test) = imdb.load_data(num_words=max_features)"
      ]
    },
    {
      "cell_type": "code",
      "execution_count": 4,
      "metadata": {
        "id": "YoqNLua7wiOk"
      },
      "outputs": [],
      "source": [
        "# Pad sequences to have a consistent length for the input to the RNN\n",
        "x_train = pad_sequences(x_train, maxlen=maxlen)\n",
        "x_test = pad_sequences(x_test, maxlen=maxlen)"
      ]
    },
    {
      "cell_type": "code",
      "execution_count": 5,
      "metadata": {
        "id": "S7pjrR47wlDC"
      },
      "outputs": [],
      "source": [
        "# Build the RNN model with LSTM\n",
        "model = Sequential()\n",
        "model.add(Embedding(max_features, 128))\n",
        "model.add(LSTM(64, dropout=0.2, recurrent_dropout=0.2))\n",
        "model.add(Dense(1, activation='sigmoid'))"
      ]
    },
    {
      "cell_type": "code",
      "execution_count": 6,
      "metadata": {
        "id": "IqxByZDDvjMA"
      },
      "outputs": [],
      "source": [
        "# Compile the model\n",
        "model.compile(loss='binary_crossentropy', optimizer='adam', metrics=['accuracy'])"
      ]
    },
    {
      "cell_type": "code",
      "execution_count": 7,
      "metadata": {
        "colab": {
          "base_uri": "https://localhost:8080/"
        },
        "id": "vLMqi7Rhwr0t",
        "outputId": "4f9c1128-026b-4781-d32b-0e5592fd79b9"
      },
      "outputs": [
        {
          "name": "stdout",
          "output_type": "stream",
          "text": [
            "Epoch 1/5\n",
            "782/782 [==============================] - 275s 311ms/step - loss: 0.4161 - accuracy: 0.8077 - val_loss: 0.3827 - val_accuracy: 0.8422\n",
            "Epoch 2/5\n",
            "782/782 [==============================] - 224s 286ms/step - loss: 0.2638 - accuracy: 0.8943 - val_loss: 0.3416 - val_accuracy: 0.8518\n",
            "Epoch 3/5\n",
            "782/782 [==============================] - 138s 177ms/step - loss: 0.1905 - accuracy: 0.9252 - val_loss: 0.4382 - val_accuracy: 0.8398\n",
            "Epoch 4/5\n",
            "782/782 [==============================] - 178s 228ms/step - loss: 0.1440 - accuracy: 0.9455 - val_loss: 0.4665 - val_accuracy: 0.8422\n",
            "Epoch 5/5\n",
            "782/782 [==============================] - 173s 221ms/step - loss: 0.1033 - accuracy: 0.9628 - val_loss: 0.5624 - val_accuracy: 0.8367\n"
          ]
        },
        {
          "data": {
            "text/plain": [
              "<keras.callbacks.History at 0x20359b7a9d0>"
            ]
          },
          "execution_count": 7,
          "metadata": {},
          "output_type": "execute_result"
        }
      ],
      "source": [
        "# Train the model\n",
        "model.fit(x_train, y_train, batch_size=batch_size, epochs=5, validation_data=(x_test, y_test))"
      ]
    },
    {
      "cell_type": "code",
      "execution_count": 8,
      "metadata": {
        "colab": {
          "base_uri": "https://localhost:8080/"
        },
        "id": "6xPhVyIWwuhO",
        "outputId": "b64a22b8-1d5e-4d68-9549-831d56612a32"
      },
      "outputs": [
        {
          "name": "stdout",
          "output_type": "stream",
          "text": [
            "782/782 [==============================] - 19s 25ms/step - loss: 0.5624 - accuracy: 0.8367\n",
            "Test score: 0.5624009370803833\n",
            "Test accuracy: 0.836679995059967\n"
          ]
        }
      ],
      "source": [
        "# Evaluate the model\n",
        "score, acc = model.evaluate(x_test, y_test, batch_size=batch_size)\n",
        "print(f'Test score: {score}')\n",
        "print(f'Test accuracy: {acc}')\n"
      ]
    }
  ],
  "metadata": {
    "colab": {
      "provenance": []
    },
    "kernelspec": {
      "display_name": "Python 3",
      "name": "python3"
    },
    "language_info": {
      "codemirror_mode": {
        "name": "ipython",
        "version": 3
      },
      "file_extension": ".py",
      "mimetype": "text/x-python",
      "name": "python",
      "nbconvert_exporter": "python",
      "pygments_lexer": "ipython3",
      "version": "3.11.0"
    }
  },
  "nbformat": 4,
  "nbformat_minor": 0
}
