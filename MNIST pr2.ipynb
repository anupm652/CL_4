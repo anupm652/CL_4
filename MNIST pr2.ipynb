{
 "cells": [
  {
   "cell_type": "markdown",
   "metadata": {},
   "source": [
    "Build a Multiclass classifier using the CNN model. Use MNIST or any other suitable dataset.\n",
    "a. Perform Data Pre-processing b. Define Model and perform training c. Evaluate Results\n",
    "using confusion matrix.\n"
   ]
  },
  {
   "cell_type": "markdown",
   "metadata": {},
   "source": [
    "Data Preprocessing"
   ]
  },
  {
   "cell_type": "code",
   "execution_count": 1,
   "metadata": {},
   "outputs": [],
   "source": [
    "from keras.datasets import mnist\n",
    "from keras.utils import to_categorical"
   ]
  },
  {
   "cell_type": "code",
   "execution_count": 2,
   "metadata": {},
   "outputs": [],
   "source": [
    "# Load the MNIST dataset\n",
    "(train_images, train_labels), (test_images, test_labels) = mnist.load_data()"
   ]
  },
  {
   "cell_type": "code",
   "execution_count": 3,
   "metadata": {},
   "outputs": [],
   "source": [
    "# Normalize pixel values to be between 0 and 1\n",
    "train_images = train_images.astype('float32') / 255\n",
    "test_images = test_images.astype('float32') / 255"
   ]
  },
  {
   "cell_type": "code",
   "execution_count": 4,
   "metadata": {},
   "outputs": [],
   "source": [
    "# Reshape the images to fit the CNN input shape\n",
    "train_images = train_images.reshape((train_images.shape[0], 28, 28, 1))\n",
    "test_images = test_images.reshape((test_images.shape[0], 28, 28, 1))"
   ]
  },
  {
   "cell_type": "code",
   "execution_count": 5,
   "metadata": {},
   "outputs": [],
   "source": [
    "# Convert class vectors to binary class matrices\n",
    "train_labels = to_categorical(train_labels, num_classes=10)\n",
    "test_labels = to_categorical(test_labels, num_classes=10)"
   ]
  },
  {
   "cell_type": "markdown",
   "metadata": {},
   "source": [
    "Define the Model"
   ]
  },
  {
   "cell_type": "code",
   "execution_count": 6,
   "metadata": {},
   "outputs": [],
   "source": [
    "from keras.models import Sequential\n",
    "from keras.layers import Conv2D, MaxPooling2D, Flatten, Dense\n",
    "from keras.metrics import Accuracy"
   ]
  },
  {
   "cell_type": "code",
   "execution_count": 7,
   "metadata": {},
   "outputs": [],
   "source": [
    "model = Sequential()\n",
    "model.add(Conv2D(32, kernel_size=(3, 3), activation='relu', input_shape=(28, 28, 1)))\n",
    "model.add(MaxPooling2D(pool_size=(2, 2)))\n",
    "model.add(Conv2D(64, kernel_size=(3, 3), activation='relu'))\n",
    "model.add(MaxPooling2D(pool_size=(2, 2)))\n",
    "model.add(Flatten())\n",
    "model.add(Dense(128, activation='relu'))\n",
    "model.add(Dense(10, activation='softmax'))"
   ]
  },
  {
   "cell_type": "code",
   "execution_count": 8,
   "metadata": {},
   "outputs": [],
   "source": [
    "# Compile the model with accuracy metric\n",
    "model.compile(loss='categorical_crossentropy', optimizer='adam', metrics=[Accuracy()])\n"
   ]
  },
  {
   "cell_type": "markdown",
   "metadata": {},
   "source": [
    "Train the Model"
   ]
  },
  {
   "cell_type": "code",
   "execution_count": 9,
   "metadata": {},
   "outputs": [
    {
     "name": "stdout",
     "output_type": "stream",
     "text": [
      "Epoch 1/10\n",
      "469/469 [==============================] - 66s 135ms/step - loss: 0.1919 - accuracy: 0.9455 - val_loss: 0.0528 - val_accuracy: 0.9829\n",
      "Epoch 2/10\n",
      "469/469 [==============================] - 58s 124ms/step - loss: 0.0551 - accuracy: 0.9835 - val_loss: 0.0415 - val_accuracy: 0.9873\n",
      "Epoch 3/10\n",
      "469/469 [==============================] - 60s 127ms/step - loss: 0.0387 - accuracy: 0.9881 - val_loss: 0.0329 - val_accuracy: 0.9891\n",
      "Epoch 4/10\n",
      "469/469 [==============================] - 54s 115ms/step - loss: 0.0312 - accuracy: 0.9904 - val_loss: 0.0315 - val_accuracy: 0.9894\n",
      "Epoch 5/10\n",
      "469/469 [==============================] - 47s 100ms/step - loss: 0.0232 - accuracy: 0.9927 - val_loss: 0.0344 - val_accuracy: 0.9885\n",
      "Epoch 6/10\n",
      "469/469 [==============================] - 51s 108ms/step - loss: 0.0185 - accuracy: 0.9942 - val_loss: 0.0245 - val_accuracy: 0.9919\n",
      "Epoch 7/10\n",
      "469/469 [==============================] - 51s 108ms/step - loss: 0.0144 - accuracy: 0.9956 - val_loss: 0.0279 - val_accuracy: 0.9914\n",
      "Epoch 8/10\n",
      "469/469 [==============================] - 50s 106ms/step - loss: 0.0118 - accuracy: 0.9960 - val_loss: 0.0323 - val_accuracy: 0.9906\n",
      "Epoch 9/10\n",
      "469/469 [==============================] - 54s 116ms/step - loss: 0.0106 - accuracy: 0.9966 - val_loss: 0.0325 - val_accuracy: 0.9902\n",
      "Epoch 10/10\n",
      "469/469 [==============================] - 50s 107ms/step - loss: 0.0075 - accuracy: 0.9976 - val_loss: 0.0304 - val_accuracy: 0.9912\n"
     ]
    },
    {
     "data": {
      "text/plain": [
       "<keras.callbacks.History at 0x238cbe3dd10>"
      ]
     },
     "execution_count": 9,
     "metadata": {},
     "output_type": "execute_result"
    }
   ],
   "source": [
    "model.fit(train_images, train_labels, batch_size=128, epochs=10, verbose=1, validation_data=(test_images, test_labels))\n"
   ]
  },
  {
   "cell_type": "markdown",
   "metadata": {},
   "source": [
    "Evaluate Results Using Confusion Matrix"
   ]
  },
  {
   "cell_type": "code",
   "execution_count": 10,
   "metadata": {},
   "outputs": [],
   "source": [
    "from sklearn.metrics import confusion_matrix\n",
    "import numpy as np"
   ]
  },
  {
   "cell_type": "code",
   "execution_count": 11,
   "metadata": {},
   "outputs": [
    {
     "name": "stdout",
     "output_type": "stream",
     "text": [
      "313/313 [==============================] - 3s 10ms/step\n"
     ]
    }
   ],
   "source": [
    "# Make predictions on the test dataset\n",
    "predictions = model.predict(test_images)\n",
    "predictions = np.argmax(predictions, axis=1)"
   ]
  },
  {
   "cell_type": "code",
   "execution_count": 12,
   "metadata": {},
   "outputs": [],
   "source": [
    "# Convert test labels back to class labels\n",
    "test_labels = np.argmax(test_labels, axis=1)"
   ]
  },
  {
   "cell_type": "code",
   "execution_count": 13,
   "metadata": {},
   "outputs": [],
   "source": [
    "# Create confusion matrix\n",
    "cm = confusion_matrix(test_labels, predictions)"
   ]
  },
  {
   "cell_type": "code",
   "execution_count": 19,
   "metadata": {},
   "outputs": [
    {
     "data": {
      "image/png": "[encoded data removed]",
      "text/plain": [
       "<Figure size 640x480 with 2 Axes>"
      ]
     },
     "metadata": {},
     "output_type": "display_data"
    }
   ],
   "source": [
    "import seaborn as sns\n",
    "import matplotlib.pyplot as plt\n",
    "\n",
    "# Assuming 'cm' is your confusion matrix\n",
    "sns.heatmap(cm, annot=True, fmt='d', cmap='Blues')\n",
    "plt.xlabel('Predicted')\n",
    "plt.ylabel('Actual')\n",
    "plt.show()\n"
   ]
  },
  {
   "cell_type": "markdown",
   "metadata": {},
   "source": [
    "- Data Preprocessing\n",
    "Normalization: Scaling pixel values to a range between 0 and 1 to help the model converge faster during training.\n",
    "Data Augmentation: Creating modified versions of images to increase the dataset size and improve model generalization.\n",
    "One-Hot Encoding: Converting class labels into a binary matrix representation for multiclass classification.\n",
    "- Defining the Model\n",
    "Convolutional Layers: Apply filters to capture local features in images.\n",
    "Pooling Layers: Reduce spatial dimensions to decrease computational complexity and control overfitting.\n",
    "Fully Connected Layers: Perform high-level reasoning after convolutional and pooling layers.\n",
    "Softmax Activation: Converts output into a probability distribution over classes for multiclass classification.\n",
    "- Training the Model\n",
    "Loss Function: Categorical cross-entropy for multiclass classification.\n",
    "Optimizer: Adam for efficient weight updates.\n",
    "Batch Size and Epochs: Determines the number of samples to process before updating weights and the number of times to iterate over the entire dataset.\n",
    "- Evaluating Results\n",
    "Confusion Matrix: Summarizes correct and incorrect predictions for each class.\n",
    "Classification Metrics: Accuracy, precision, recall, and F1 score provide different perspectives on model performance.\n",
    "- Visualization\n",
    "Confusion Matrix Visualization: Helps understand the model's performance across different classes.\n",
    "Feature Map Visualization: Shows the output of each filter in a given layer for a particular input image, aiding in understanding the features the network is learning."
   ]
  },
  {
   "cell_type": "code",
   "execution_count": null,
   "metadata": {},
   "outputs": [],
   "source": []
  }
 ],
 "metadata": {
  "kernelspec": {
   "display_name": "Python 3",
   "language": "python",
   "name": "python3"
  },
  "language_info": {
   "codemirror_mode": {
    "name": "ipython",
    "version": 3
   },
   "file_extension": ".py",
   "mimetype": "text/x-python",
   "name": "python",
   "nbconvert_exporter": "python",
   "pygments_lexer": "ipython3",
   "version": "3.11.0"
  }
 },
 "nbformat": 4,
 "nbformat_minor": 2
}
